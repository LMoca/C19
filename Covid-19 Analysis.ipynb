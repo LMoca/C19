{
 "cells": [
  {
   "cell_type": "markdown",
   "metadata": {},
   "source": [
    "<b>United States COVID-19 Cases and Deaths by State\n",
    "\n",
    "Date generated: Sat Oct 31 2020 17:39:10 GMT-0700 (Pacific Daylight Time)"
   ]
  },
  {
   "cell_type": "code",
   "execution_count": 1,
   "metadata": {},
   "outputs": [],
   "source": [
    "import pandas as pd\n",
    "import datetime as dt\n",
    "import seaborn as sea\n",
    "import matplotlib.pyplot as plt"
   ]
  },
  {
   "cell_type": "code",
   "execution_count": 2,
   "metadata": {
    "scrolled": true
   },
   "outputs": [],
   "source": [
    "cspud = pd.read_csv(\"COVID-19_Case_Surveillance_Public_Use_Data.csv\", \n",
    "                    dtype={\"cdc_report_dt\": \"string\", \"pos_spec_dt\": \"string\",\"onset_dt\": \"string\",\n",
    "                           \"current_status\": \"string\",\"sex\": \"string\",\"age_group\": \"string\",\n",
    "                           \"Race and ethnicity '('combined)\": \"string\",\"hosp_yn\": \"string\",\"icu_yn\": \"string\",\n",
    "                           \"death_yn\": \"string\",\"medcond_yn\": \"string\"})"
   ]
  },
  {
   "cell_type": "code",
   "execution_count": 3,
   "metadata": {},
   "outputs": [
    {
     "data": {
      "text/html": [
       "<div>\n",
       "<style scoped>\n",
       "    .dataframe tbody tr th:only-of-type {\n",
       "        vertical-align: middle;\n",
       "    }\n",
       "\n",
       "    .dataframe tbody tr th {\n",
       "        vertical-align: top;\n",
       "    }\n",
       "\n",
       "    .dataframe thead th {\n",
       "        text-align: right;\n",
       "    }\n",
       "</style>\n",
       "<table border=\"1\" class=\"dataframe\">\n",
       "  <thead>\n",
       "    <tr style=\"text-align: right;\">\n",
       "      <th></th>\n",
       "      <th>cdc_report_dt</th>\n",
       "      <th>pos_spec_dt</th>\n",
       "      <th>onset_dt</th>\n",
       "      <th>current_status</th>\n",
       "      <th>sex</th>\n",
       "      <th>age_group</th>\n",
       "      <th>Race and ethnicity (combined)</th>\n",
       "      <th>hosp_yn</th>\n",
       "      <th>icu_yn</th>\n",
       "      <th>death_yn</th>\n",
       "      <th>medcond_yn</th>\n",
       "    </tr>\n",
       "  </thead>\n",
       "  <tbody>\n",
       "    <tr>\n",
       "      <th>0</th>\n",
       "      <td>2020/03/22</td>\n",
       "      <td>2020/03/15</td>\n",
       "      <td>2020/03/11</td>\n",
       "      <td>Laboratory-confirmed case</td>\n",
       "      <td>Female</td>\n",
       "      <td>0 - 9 Years</td>\n",
       "      <td>Multiple/Other, Non-Hispanic</td>\n",
       "      <td>Yes</td>\n",
       "      <td>Yes</td>\n",
       "      <td>No</td>\n",
       "      <td>Yes</td>\n",
       "    </tr>\n",
       "    <tr>\n",
       "      <th>1</th>\n",
       "      <td>2020/03/23</td>\n",
       "      <td>2020/03/15</td>\n",
       "      <td>&lt;NA&gt;</td>\n",
       "      <td>Laboratory-confirmed case</td>\n",
       "      <td>Female</td>\n",
       "      <td>0 - 9 Years</td>\n",
       "      <td>Unknown</td>\n",
       "      <td>Unknown</td>\n",
       "      <td>Unknown</td>\n",
       "      <td>Unknown</td>\n",
       "      <td>Unknown</td>\n",
       "    </tr>\n",
       "    <tr>\n",
       "      <th>2</th>\n",
       "      <td>2020/03/15</td>\n",
       "      <td>2020/03/15</td>\n",
       "      <td>&lt;NA&gt;</td>\n",
       "      <td>Laboratory-confirmed case</td>\n",
       "      <td>Female</td>\n",
       "      <td>0 - 9 Years</td>\n",
       "      <td>Unknown</td>\n",
       "      <td>Missing</td>\n",
       "      <td>Missing</td>\n",
       "      <td>Missing</td>\n",
       "      <td>Missing</td>\n",
       "    </tr>\n",
       "  </tbody>\n",
       "</table>\n",
       "</div>"
      ],
      "text/plain": [
       "  cdc_report_dt pos_spec_dt    onset_dt             current_status     sex  \\\n",
       "0    2020/03/22  2020/03/15  2020/03/11  Laboratory-confirmed case  Female   \n",
       "1    2020/03/23  2020/03/15        <NA>  Laboratory-confirmed case  Female   \n",
       "2    2020/03/15  2020/03/15        <NA>  Laboratory-confirmed case  Female   \n",
       "\n",
       "     age_group Race and ethnicity (combined)  hosp_yn   icu_yn death_yn  \\\n",
       "0  0 - 9 Years  Multiple/Other, Non-Hispanic      Yes      Yes       No   \n",
       "1  0 - 9 Years                       Unknown  Unknown  Unknown  Unknown   \n",
       "2  0 - 9 Years                       Unknown  Missing  Missing  Missing   \n",
       "\n",
       "  medcond_yn  \n",
       "0        Yes  \n",
       "1    Unknown  \n",
       "2    Missing  "
      ]
     },
     "execution_count": 3,
     "metadata": {},
     "output_type": "execute_result"
    }
   ],
   "source": [
    "cspud.head(3)"
   ]
  },
  {
   "cell_type": "code",
   "execution_count": 4,
   "metadata": {},
   "outputs": [
    {
     "data": {
      "text/html": [
       "<div>\n",
       "<style scoped>\n",
       "    .dataframe tbody tr th:only-of-type {\n",
       "        vertical-align: middle;\n",
       "    }\n",
       "\n",
       "    .dataframe tbody tr th {\n",
       "        vertical-align: top;\n",
       "    }\n",
       "\n",
       "    .dataframe thead th {\n",
       "        text-align: right;\n",
       "    }\n",
       "</style>\n",
       "<table border=\"1\" class=\"dataframe\">\n",
       "  <thead>\n",
       "    <tr style=\"text-align: right;\">\n",
       "      <th></th>\n",
       "      <th>cdc_report_dt</th>\n",
       "      <th>pos_spec_dt</th>\n",
       "      <th>onset_dt</th>\n",
       "      <th>current_status</th>\n",
       "      <th>sex</th>\n",
       "      <th>age_group</th>\n",
       "      <th>Race and ethnicity (combined)</th>\n",
       "      <th>hosp_yn</th>\n",
       "      <th>icu_yn</th>\n",
       "      <th>death_yn</th>\n",
       "      <th>medcond_yn</th>\n",
       "    </tr>\n",
       "  </thead>\n",
       "  <tbody>\n",
       "    <tr>\n",
       "      <th>4481059</th>\n",
       "      <td>2020/09/15</td>\n",
       "      <td>2020/09/15</td>\n",
       "      <td>&lt;NA&gt;</td>\n",
       "      <td>Laboratory-confirmed case</td>\n",
       "      <td>Female</td>\n",
       "      <td>Unknown</td>\n",
       "      <td>Unknown</td>\n",
       "      <td>Missing</td>\n",
       "      <td>Missing</td>\n",
       "      <td>Missing</td>\n",
       "      <td>No</td>\n",
       "    </tr>\n",
       "    <tr>\n",
       "      <th>4481060</th>\n",
       "      <td>2020/09/15</td>\n",
       "      <td>2020/09/15</td>\n",
       "      <td>&lt;NA&gt;</td>\n",
       "      <td>Probable Case</td>\n",
       "      <td>Missing</td>\n",
       "      <td>Unknown</td>\n",
       "      <td>White, Non-Hispanic</td>\n",
       "      <td>No</td>\n",
       "      <td>Unknown</td>\n",
       "      <td>No</td>\n",
       "      <td>Yes</td>\n",
       "    </tr>\n",
       "    <tr>\n",
       "      <th>4481061</th>\n",
       "      <td>2020/09/15</td>\n",
       "      <td>2020/09/17</td>\n",
       "      <td>2020/09/15</td>\n",
       "      <td>Laboratory-confirmed case</td>\n",
       "      <td>Female</td>\n",
       "      <td>Unknown</td>\n",
       "      <td>Unknown</td>\n",
       "      <td>No</td>\n",
       "      <td>Unknown</td>\n",
       "      <td>No</td>\n",
       "      <td>Unknown</td>\n",
       "    </tr>\n",
       "  </tbody>\n",
       "</table>\n",
       "</div>"
      ],
      "text/plain": [
       "        cdc_report_dt pos_spec_dt    onset_dt             current_status  \\\n",
       "4481059    2020/09/15  2020/09/15        <NA>  Laboratory-confirmed case   \n",
       "4481060    2020/09/15  2020/09/15        <NA>              Probable Case   \n",
       "4481061    2020/09/15  2020/09/17  2020/09/15  Laboratory-confirmed case   \n",
       "\n",
       "             sex age_group Race and ethnicity (combined)  hosp_yn   icu_yn  \\\n",
       "4481059   Female   Unknown                       Unknown  Missing  Missing   \n",
       "4481060  Missing   Unknown           White, Non-Hispanic       No  Unknown   \n",
       "4481061   Female   Unknown                       Unknown       No  Unknown   \n",
       "\n",
       "        death_yn medcond_yn  \n",
       "4481059  Missing         No  \n",
       "4481060       No        Yes  \n",
       "4481061       No    Unknown  "
      ]
     },
     "execution_count": 4,
     "metadata": {},
     "output_type": "execute_result"
    }
   ],
   "source": [
    "cspud.tail(3)"
   ]
  },
  {
   "cell_type": "code",
   "execution_count": 8,
   "metadata": {},
   "outputs": [
    {
     "data": {
      "text/plain": [
       "93"
      ]
     },
     "execution_count": 8,
     "metadata": {},
     "output_type": "execute_result"
    }
   ],
   "source": [
    "invalidAgeEntry =0\n",
    "for nas,csa in zip(cspud['age_group'].isna(),cspud['age_group']):\n",
    "    if(nas):\n",
    "        invalidAgeEntry +=1\n",
    "invalidAgeEntry"
   ]
  },
  {
   "cell_type": "code",
   "execution_count": 9,
   "metadata": {},
   "outputs": [
    {
     "name": "stdout",
     "output_type": "stream",
     "text": [
      "0 - 9 Years : 140213\n",
      "10 - 19 Years : 386579\n",
      "20 - 29 Years : 869057\n",
      "30 - 39 Years : 748175\n",
      "40 - 49 Years : 694670\n",
      "50 - 59 Years : 671827\n",
      "60 - 69 Years : 468486\n",
      "70 - 79 Years : 263186\n",
      "80+ Years : 233588\n",
      "Unknown : 5188\n",
      "Total Entries:  4480969\n"
     ]
    }
   ],
   "source": [
    "ageGroup = cspud['age_group']\n",
    "covidStatus = cspud['current_status']\n",
    "deathStatus = cspud['death_yn']\n",
    "ageGroupNA = ageGroup.isna()\n",
    "\n",
    "ageGroups = [\"0 - 9 Years\", \"10 - 19 Years\", \"20 - 29 Years\", \"30 - 39 Years\", \"40 - 49 Years\", \"50 - 59 Years\", \"60 - 69 Years\", \"70 - 79 Years\", \"80+ Years\", \"Unknown\"]\n",
    "\n",
    "byAge = [0] * len(ageGroups)\n",
    "\n",
    "for ard,ardna in zip(ageGroup, ageGroupNA):\n",
    "    if(ardna == False):\n",
    "        for ag in ageGroups:\n",
    "            if(ard == ag):\n",
    "                byAge[ageGroups.index(ag)] +=1\n",
    "\n",
    "for ags,dba in zip(ageGroups,byAge):\n",
    "    print (ags, ':', dba)\n",
    "\n",
    "totalByAge = sum(byAge)\n",
    "\n",
    "print ('Total Entries: ', totalByAge)"
   ]
  },
  {
   "cell_type": "code",
   "execution_count": 10,
   "metadata": {},
   "outputs": [
    {
     "name": "stdout",
     "output_type": "stream",
     "text": [
      "0 - 9 Years : 134620\n",
      "10 - 19 Years : 369617\n",
      "20 - 29 Years : 843783\n",
      "30 - 39 Years : 725600\n",
      "40 - 49 Years : 670109\n",
      "50 - 59 Years : 643723\n",
      "60 - 69 Years : 448799\n",
      "70 - 79 Years : 254304\n",
      "80+ Years : 227246\n",
      "Unknown : 4844\n",
      "Total Laboratory-confirmed cases:  4322645\n"
     ]
    }
   ],
   "source": [
    "casesByAge = [0] * len(ageGroups)\n",
    "\n",
    "for ard,ardna,cs in zip(ageGroup, ageGroupNA, covidStatus):\n",
    "    if(ardna == False and cs == 'Laboratory-confirmed case'):\n",
    "        for ag in ageGroups:\n",
    "            if(ard == ag):\n",
    "                casesByAge[ageGroups.index(ag)] +=1\n",
    "\n",
    "for ags,dba in zip(ageGroups,casesByAge):\n",
    "    print (ags, ':', dba)\n",
    "\n",
    "totalCasesByAge = sum(casesByAge)\n",
    "\n",
    "print ('Total Laboratory-confirmed cases: ', totalCasesByAge)"
   ]
  },
  {
   "cell_type": "code",
   "execution_count": 11,
   "metadata": {},
   "outputs": [
    {
     "name": "stdout",
     "output_type": "stream",
     "text": [
      "0 - 9 Years : 5593\n",
      "10 - 19 Years : 16962\n",
      "20 - 29 Years : 25274\n",
      "30 - 39 Years : 22575\n",
      "40 - 49 Years : 24561\n",
      "50 - 59 Years : 28104\n",
      "60 - 69 Years : 19687\n",
      "70 - 79 Years : 8882\n",
      "80+ Years : 6342\n",
      "Unknown : 344\n",
      "Total Probable cases:  158324\n"
     ]
    }
   ],
   "source": [
    "probableCasesByAge = [0] * len(ageGroups)\n",
    "\n",
    "for ard,ardna,cs in zip(ageGroup, ageGroupNA, covidStatus):\n",
    "    if(ardna == False and cs == 'Probable Case'):\n",
    "        for ag in ageGroups:\n",
    "            if(ard == ag):\n",
    "                probableCasesByAge[ageGroups.index(ag)] +=1\n",
    "\n",
    "for ags,dba in zip(ageGroups,probableCasesByAge):\n",
    "    print (ags, ':', dba)\n",
    "\n",
    "totalProbableCasesByAge = sum(probableCasesByAge)\n",
    "\n",
    "print ('Total Probable cases: ', totalProbableCasesByAge)"
   ]
  },
  {
   "cell_type": "code",
   "execution_count": 12,
   "metadata": {},
   "outputs": [
    {
     "data": {
      "image/png": "[encoded data removed]",
      "text/plain": [
       "<Figure size 1296x432 with 1 Axes>"
      ]
     },
     "metadata": {
      "needs_background": "light"
     },
     "output_type": "display_data"
    }
   ],
   "source": [
    "plt.figure(figsize=(18,6))\n",
    "\n",
    "plt.bar(ageGroups, byAge, color='blue') #Entry\n",
    "plt.bar(ageGroups, casesByAge, color='green') #Lab-confirmed\n",
    "plt.bar(ageGroups, probableCasesByAge, color='yellow') #Probable\n",
    "\n",
    "plt.show()"
   ]
  },
  {
   "cell_type": "code",
   "execution_count": 13,
   "metadata": {},
   "outputs": [
    {
     "name": "stdout",
     "output_type": "stream",
     "text": [
      "0 - 9 Years : 49\n",
      "10 - 19 Years : 83\n",
      "20 - 29 Years : 637\n",
      "30 - 39 Years : 1770\n",
      "40 - 49 Years : 4263\n",
      "50 - 59 Years : 11000\n",
      "60 - 69 Years : 22900\n",
      "70 - 79 Years : 33526\n",
      "80+ Years : 62164\n",
      "Unknown : 8\n",
      "Total Deaths:  136400\n"
     ]
    }
   ],
   "source": [
    "\n",
    "\n",
    "##Tab up entries with that resulted in death by age group.\n",
    "\n",
    "deathsByAge = [0] * len(ageGroups)\n",
    "\n",
    "for d,ard,ardna in zip(deathStatus, ageGroup, ageGroupNA):\n",
    "    if(d == 'Yes' and ardna == False):\n",
    "        for ag in ageGroups:\n",
    "            if(ard == ag):\n",
    "                deathsByAge[ageGroups.index(ag)] +=1\n",
    "\n",
    "for ags,dba in zip(ageGroups,deathsByAge):\n",
    "    print (ags, ':', dba)\n",
    "\n",
    "totalDeathsByAge = sum(deathsByAge)\n",
    "\n",
    "print ('Total Deaths: ', totalDeathsByAge)"
   ]
  },
  {
   "cell_type": "code",
   "execution_count": 14,
   "metadata": {},
   "outputs": [
    {
     "name": "stdout",
     "output_type": "stream",
     "text": [
      "0 - 9 Years : 47\n",
      "10 - 19 Years : 81\n",
      "20 - 29 Years : 605\n",
      "30 - 39 Years : 1671\n",
      "40 - 49 Years : 4010\n",
      "50 - 59 Years : 10338\n",
      "60 - 69 Years : 21747\n",
      "70 - 79 Years : 32012\n",
      "80+ Years : 59014\n",
      "Unknown : 6\n",
      "Total Covid Deaths:  129531\n"
     ]
    }
   ],
   "source": [
    "\n",
    "\n",
    "covidDeathsByAge = [0] * len(ageGroups)\n",
    "\n",
    "for d,ard,ardna,cs in zip(deathStatus, ageGroup, ageGroupNA, covidStatus):\n",
    "    if(d == 'Yes' and ardna == False and cs == 'Laboratory-confirmed case'):\n",
    "        for ag in ageGroups:\n",
    "            if(ard == ag):\n",
    "                covidDeathsByAge[ageGroups.index(ag)] +=1\n",
    "\n",
    "for ags,dba in zip(ageGroups,covidDeathsByAge):\n",
    "    print (ags, ':', dba)\n",
    "\n",
    "totalCovidDeathsByAge = sum(covidDeathsByAge)\n",
    "\n",
    "print ('Total Covid Deaths: ', totalCovidDeathsByAge)"
   ]
  },
  {
   "cell_type": "code",
   "execution_count": 15,
   "metadata": {},
   "outputs": [
    {
     "name": "stdout",
     "output_type": "stream",
     "text": [
      "Total Comorbidity Cases:  567767 Total Comorbidity Deaths:  64598\n"
     ]
    }
   ],
   "source": [
    "comorbidity = cspud['medcond_yn']\n",
    "\n",
    "##Tab up entries with the same mortality condition.\n",
    "\n",
    "coMo =0\n",
    "coMoDeath =0\n",
    "\n",
    "for c,d in zip(comorbidity, deathStatus):\n",
    "    if (c == 'Yes'):\n",
    "        coMo +=1\n",
    "    if (d == 'Yes' and c == 'Yes'):\n",
    "            coMoDeath +=1\n",
    "print('Total Comorbidity Cases: ', coMo, 'Total Comorbidity Deaths: ', coMoDeath)"
   ]
  },
  {
   "cell_type": "code",
   "execution_count": 16,
   "metadata": {},
   "outputs": [
    {
     "name": "stdout",
     "output_type": "stream",
     "text": [
      "0 - 9 Years : 11\n",
      "10 - 19 Years : 28\n",
      "20 - 29 Years : 218\n",
      "30 - 39 Years : 688\n",
      "40 - 49 Years : 1716\n",
      "50 - 59 Years : 4926\n",
      "60 - 69 Years : 10718\n",
      "70 - 79 Years : 15503\n",
      "80+ Years : 27050\n",
      "Unknown : 0\n",
      "Comorbidity Deaths:  60858 Comorbidity Death Percentage:  46.98334761562869\n"
     ]
    }
   ],
   "source": [
    "deathsByAgeCoMo = [0] * len(ageGroups)\n",
    "\n",
    "for c,d,ard,ardna,cs in zip(comorbidity, deathStatus, ageGroup, ageGroupNA, covidStatus):\n",
    "    if(d == 'Yes' and c == \"Yes\" and ardna == False and cs == 'Laboratory-confirmed case'):\n",
    "        for ag in ageGroups:\n",
    "            if(ard == ag):\n",
    "                deathsByAgeCoMo[ageGroups.index(ag)] +=1\n",
    "\n",
    "for ags,dba in zip(ageGroups,deathsByAgeCoMo):\n",
    "    print (ags, ':', dba)\n",
    "\n",
    "coMoDeaths = sum(deathsByAgeCoMo)\n",
    "coMoDeathRatio = coMoDeaths / totalCovidDeathsByAge\n",
    "\n",
    "print ('Comorbidity Deaths: ', coMoDeaths, 'Comorbidity Death Percentage: ', (coMoDeathRatio*100))"
   ]
  },
  {
   "cell_type": "code",
   "execution_count": 17,
   "metadata": {},
   "outputs": [
    {
     "data": {
      "image/png": "[encoded data removed]",
      "text/plain": [
       "<Figure size 1296x432 with 1 Axes>"
      ]
     },
     "metadata": {
      "needs_background": "light"
     },
     "output_type": "display_data"
    }
   ],
   "source": [
    "plt.figure(figsize=(18,6))\n",
    "\n",
    "plt.bar(ageGroups, deathsByAge, color='black')\n",
    "plt.bar(ageGroups, covidDeathsByAge, color='red')\n",
    "plt.bar(ageGroups, deathsByAgeCoMo, color='gray')\n",
    "plt.ylabel('Deaths')\n",
    "plt.show()"
   ]
  },
  {
   "cell_type": "code",
   "execution_count": 18,
   "metadata": {},
   "outputs": [
    {
     "name": "stdout",
     "output_type": "stream",
     "text": [
      "0 - 9 Years : 73328\n",
      "10 - 19 Years : 189988\n",
      "20 - 29 Years : 412421\n",
      "30 - 39 Years : 352496\n",
      "40 - 49 Years : 324291\n",
      "50 - 59 Years : 306283\n",
      "60 - 69 Years : 206919\n",
      "70 - 79 Years : 107072\n",
      "80+ Years : 76671\n",
      "Unknown : 600\n",
      "Total Covid Survival:  2050069\n"
     ]
    }
   ],
   "source": [
    "covidSurvivalByAge = [0] * len(ageGroups)\n",
    "\n",
    "for d,ard,ardna,cs in zip(deathStatus, ageGroup, ageGroupNA, covidStatus):\n",
    "    if(d == 'No' and ardna == False and cs == 'Laboratory-confirmed case'):\n",
    "        for ag in ageGroups:\n",
    "            if(ard == ag):\n",
    "                covidSurvivalByAge[ageGroups.index(ag)] +=1\n",
    "\n",
    "for ags,dba in zip(ageGroups,covidSurvivalByAge):\n",
    "    print (ags, ':', dba)\n",
    "\n",
    "totalCovidSurvivalByAge = sum(covidSurvivalByAge)\n",
    "\n",
    "print ('Total Covid Survival: ', totalCovidSurvivalByAge)"
   ]
  },
  {
   "cell_type": "code",
   "execution_count": 19,
   "metadata": {},
   "outputs": [
    {
     "name": "stdout",
     "output_type": "stream",
     "text": [
      "0 - 9 Years : 0.0006409557058695178\n",
      "10 - 19 Years : 0.0004263427163820873\n",
      "20 - 29 Years : 0.0014669476093603381\n",
      "30 - 39 Years : 0.00474047932458808\n",
      "40 - 49 Years : 0.012365437215340542\n",
      "50 - 59 Years : 0.033753097625398736\n",
      "60 - 69 Years : 0.10509909674800284\n",
      "70 - 79 Years : 0.29897638971906754\n",
      "80+ Years : 0.769704321060114\n",
      "Unknown : 0.01\n"
     ]
    }
   ],
   "source": [
    "covidFatalityRateByAge = [0] * len(ageGroups)\n",
    "\n",
    "for cs,cd in zip(covidSurvivalByAge, covidDeathsByAge):\n",
    "    covidFatalityRateByAge[covidSurvivalByAge.index(cs)] = (cd/cs)\n",
    "    \n",
    "for ags,dba in zip(ageGroups,covidFatalityRateByAge):\n",
    "    print (ags, ':', dba)"
   ]
  },
  {
   "cell_type": "code",
   "execution_count": 20,
   "metadata": {},
   "outputs": [
    {
     "name": "stdout",
     "output_type": "stream",
     "text": [
      "0 - 9 Years : 36\n",
      "10 - 19 Years : 53\n",
      "20 - 29 Years : 387\n",
      "30 - 39 Years : 983\n",
      "40 - 49 Years : 2294\n",
      "50 - 59 Years : 5412\n",
      "60 - 69 Years : 11029\n",
      "70 - 79 Years : 16509\n",
      "80+ Years : 31964\n",
      "Unknown : 6\n"
     ]
    }
   ],
   "source": [
    "covidNONCoMoFatalityByAge = [0] * len(ageGroups)\n",
    "\n",
    "for cd,cmd in zip(covidDeathsByAge, deathsByAgeCoMo):\n",
    "    covidNONCoMoFatalityByAge[covidDeathsByAge.index(cd)] = cd-cmd\n",
    "    \n",
    "for ags,dba in zip(ageGroups,covidNONCoMoFatalityByAge):\n",
    "    print (ags, ':', dba) "
   ]
  },
  {
   "cell_type": "code",
   "execution_count": 21,
   "metadata": {},
   "outputs": [
    {
     "name": "stdout",
     "output_type": "stream",
     "text": [
      "0 - 9 Years : 0.0004909447959851625\n",
      "10 - 19 Years : 0.0002789649872623534\n",
      "20 - 29 Years : 0.0009383615286321502\n",
      "30 - 39 Years : 0.0027886841269120785\n",
      "40 - 49 Years : 0.007073893509224739\n",
      "50 - 59 Years : 0.017669932709291732\n",
      "60 - 69 Years : 0.053301050169389956\n",
      "70 - 79 Years : 0.15418596832038253\n",
      "80+ Years : 0.41689817532052537\n",
      "Unknown : 0.01\n"
     ]
    }
   ],
   "source": [
    "covidNONCoMoFatalityRateByAge = [0] * len(ageGroups)\n",
    "\n",
    "for cs,cd in zip(covidSurvivalByAge, covidNONCoMoFatalityByAge):\n",
    "    covidNONCoMoFatalityRateByAge[covidSurvivalByAge.index(cs)] = (cd/cs)\n",
    "    \n",
    "for ags,dba in zip(ageGroups,covidNONCoMoFatalityRateByAge):\n",
    "    print (ags, ':', dba)"
   ]
  },
  {
   "cell_type": "code",
   "execution_count": 22,
   "metadata": {},
   "outputs": [
    {
     "data": {
      "image/png": "[encoded data removed]",
      "text/plain": [
       "<Figure size 1296x432 with 1 Axes>"
      ]
     },
     "metadata": {
      "needs_background": "light"
     },
     "output_type": "display_data"
    }
   ],
   "source": [
    "plt.figure(figsize=(18,6))\n",
    "\n",
    "plt.bar(ageGroups, covidFatalityRateByAge, color='red') #Death w/ Comorbidity\n",
    "plt.bar(ageGroups, covidNONCoMoFatalityRateByAge, color='gray') #Death w/ NO Comorbidity\n",
    "\n",
    "plt.show()"
   ]
  },
  {
   "cell_type": "code",
   "execution_count": 23,
   "metadata": {},
   "outputs": [
    {
     "name": "stdout",
     "output_type": "stream",
     "text": [
      "Deaths:  136408 Lived:  2075244 Uknown:  529408 Missing:  1740002 Total:  4481062\n"
     ]
    }
   ],
   "source": [
    "##Tab up entries with the same mortality condition.\n",
    "\n",
    "deaths=0\n",
    "unknown=0\n",
    "lived=0\n",
    "missing=0\n",
    "\n",
    "for d in deathStatus:\n",
    "    if(d == 'Yes'):\n",
    "        deaths +=1\n",
    "    if(d == 'No'):\n",
    "        lived +=1\n",
    "    if(d == 'Unknown'):\n",
    "        unknown +=1\n",
    "    if(d == 'Missing'):\n",
    "        missing +=1\n",
    "        \n",
    "total = deaths + missing + unknown + lived\n",
    "        \n",
    "print('Deaths: ', deaths, 'Lived: ', lived, 'Uknown: ', unknown, 'Missing: ', missing, 'Total: ', total)"
   ]
  },
  {
   "cell_type": "code",
   "execution_count": 24,
   "metadata": {},
   "outputs": [
    {
     "name": "stdout",
     "output_type": "stream",
     "text": [
      "Mortality Ratio:  0.06573106584093244 Deaths adjusted for mortality ratio:  285578\n"
     ]
    }
   ],
   "source": [
    "mortalityRatio = deaths/ lived \n",
    "\n",
    "additionalMissingDeaths = int(mortalityRatio * missing)\n",
    "additionalUnknownDeaths = int(mortalityRatio * unknown)\n",
    "\n",
    "print('Mortality Ratio: ', mortalityRatio, 'Deaths adjusted for mortality ratio: ', additionalMissingDeaths + additionalUnknownDeaths + deaths)"
   ]
  },
  {
   "cell_type": "code",
   "execution_count": 25,
   "metadata": {},
   "outputs": [
    {
     "name": "stdout",
     "output_type": "stream",
     "text": [
      "0 - 9 Years : 14824\n",
      "10 - 19 Years : 45970\n",
      "20 - 29 Years : 107421\n",
      "30 - 39 Years : 86501\n",
      "40 - 49 Years : 81196\n",
      "50 - 59 Years : 78794\n",
      "60 - 69 Years : 54316\n",
      "70 - 79 Years : 29370\n",
      "80+ Years : 26003\n",
      "Unknown : 575\n",
      "Total Death Status Unknown:  524970\n"
     ]
    }
   ],
   "source": [
    "covidUnknownByAge = [0] * len(ageGroups)\n",
    "\n",
    "for d,ard,ardna,cs in zip(deathStatus, ageGroup, ageGroupNA, covidStatus):\n",
    "    if(d == 'Unknown' and ardna == False and cs == 'Laboratory-confirmed case'):\n",
    "        for ag in ageGroups:\n",
    "            if(ard == ag):\n",
    "                covidUnknownByAge[ageGroups.index(ag)] +=1\n",
    "\n",
    "for ags,dba in zip(ageGroups,covidUnknownByAge):\n",
    "    print (ags, ':', dba)\n",
    "\n",
    "totalCovidUnknownByAge = sum(covidUnknownByAge)\n",
    "\n",
    "print ('Total Death Status Unknown: ', totalCovidUnknownByAge)"
   ]
  },
  {
   "cell_type": "code",
   "execution_count": 56,
   "metadata": {},
   "outputs": [
    {
     "name": "stdout",
     "output_type": "stream",
     "text": [
      "0 - 9 Years : 9\n",
      "10 - 19 Years : 19\n",
      "20 - 29 Years : 157\n",
      "30 - 39 Years : 410\n",
      "40 - 49 Years : 1004\n",
      "50 - 59 Years : 2659\n",
      "60 - 69 Years : 5708\n",
      "70 - 79 Years : 8780\n",
      "80+ Years : 20014\n",
      "Unknown : 5\n",
      "Total Additional Death Status Unknown:  38765\n"
     ]
    }
   ],
   "source": [
    "covidAdditionalUnknownDeathsByAge = [0] * len(ageGroups)\n",
    "\n",
    "for ags,dba,cfr in zip(ageGroups, covidUnknownByAge, covidFatalityRateByAge):\n",
    "    covidAdditionalUnknownDeathsByAge[covidFatalityRateByAge.index(cfr)] = int(dba*cfr)\n",
    "    print (ags, ':', int(dba*cfr))\n",
    "    \n",
    "totalCovidAdditionalUnknownByAge = sum(covidAdditionalUnknownDeathsByAge)\n",
    "\n",
    "print ('Total Additional Death Status Unknown: ', totalCovidAdditionalUnknownByAge)"
   ]
  },
  {
   "cell_type": "code",
   "execution_count": 27,
   "metadata": {},
   "outputs": [
    {
     "name": "stdout",
     "output_type": "stream",
     "text": [
      "0 - 9 Years : 46421\n",
      "10 - 19 Years : 133578\n",
      "20 - 29 Years : 323336\n",
      "30 - 39 Years : 284932\n",
      "40 - 49 Years : 260612\n",
      "50 - 59 Years : 248308\n",
      "60 - 69 Years : 165817\n",
      "70 - 79 Years : 85850\n",
      "80+ Years : 65558\n",
      "Unknown : 3663\n",
      "Total Death Status Missing:  1618075\n"
     ]
    }
   ],
   "source": [
    "covidMissingByAge = [0] * len(ageGroups)\n",
    "\n",
    "for d,ard,ardna,cs in zip(deathStatus, ageGroup, ageGroupNA, covidStatus):\n",
    "    if(d == 'Missing' and ardna == False and cs == 'Laboratory-confirmed case'):\n",
    "        for ag in ageGroups:\n",
    "            if(ard == ag):\n",
    "                covidMissingByAge[ageGroups.index(ag)] +=1\n",
    "\n",
    "for ags,dba in zip(ageGroups,covidMissingByAge):\n",
    "    print (ags, ':', dba)\n",
    "\n",
    "totalCovidMissingByAge = sum(covidMissingByAge)\n",
    "\n",
    "print ('Total Death Status Missing: ', totalCovidMissingByAge)"
   ]
  },
  {
   "cell_type": "code",
   "execution_count": 55,
   "metadata": {},
   "outputs": [
    {
     "name": "stdout",
     "output_type": "stream",
     "text": [
      "0 - 9 Years : 29\n",
      "10 - 19 Years : 56\n",
      "20 - 29 Years : 474\n",
      "30 - 39 Years : 1350\n",
      "40 - 49 Years : 3222\n",
      "50 - 59 Years : 8381\n",
      "60 - 69 Years : 17427\n",
      "70 - 79 Years : 25667\n",
      "80+ Years : 50460\n",
      "Unknown : 36\n",
      "Total Additional Death Status Missing:  107102\n"
     ]
    }
   ],
   "source": [
    "covidAdditionalMissingDeathsByAge = [0] * len(ageGroups)\n",
    "\n",
    "for ags,dba,cfr in zip(ageGroups, covidMissingByAge, covidFatalityRateByAge):\n",
    "    covidAdditionalMissingDeathsByAge[covidFatalityRateByAge.index(cfr)] = int(dba*cfr)\n",
    "    print (ags, ':', int(dba*cfr))\n",
    "    \n",
    "totalCovidAdditionalMissingByAge = sum(covidAdditionalMissingDeathsByAge)\n",
    "\n",
    "print ('Total Additional Death Status Missing: ', totalCovidAdditionalMissingByAge)"
   ]
  },
  {
   "cell_type": "code",
   "execution_count": 108,
   "metadata": {},
   "outputs": [
    {
     "data": {
      "text/plain": [
       "1854708"
      ]
     },
     "execution_count": 108,
     "metadata": {},
     "output_type": "execute_result"
    }
   ],
   "source": [
    "totalCovidAdditionalMissingByAge + totalCovidMissingByAge + totalCovidDeathsByAge"
   ]
  },
  {
   "cell_type": "code",
   "execution_count": 65,
   "metadata": {},
   "outputs": [
    {
     "data": {
      "image/png": "[encoded data removed]",
      "text/plain": [
       "<Figure size 1296x432 with 1 Axes>"
      ]
     },
     "metadata": {
      "needs_background": "light"
     },
     "output_type": "display_data"
    }
   ],
   "source": [
    "plt.figure(figsize=(18,6))\n",
    "\n",
    "plt.bar(ageGroups, covidDeathsByAge, color='black')\n",
    "plt.bar(ageGroups, covidAdditionalMissingDeathsByAge, color='red')\n",
    "plt.bar(ageGroups, covidAdditionalUnknownDeathsByAge, color='gray')\n",
    "plt.ylabel('Deaths')\n",
    "plt.show()"
   ]
  },
  {
   "cell_type": "code",
   "execution_count": 48,
   "metadata": {},
   "outputs": [
    {
     "data": {
      "text/plain": [
       "<matplotlib.legend.Legend at 0x120230c70>"
      ]
     },
     "execution_count": 48,
     "metadata": {},
     "output_type": "execute_result"
    },
    {
     "data": {
      "image/png": "[encoded data removed]",
      "text/plain": [
       "<Figure size 1296x432 with 1 Axes>"
      ]
     },
     "metadata": {
      "needs_background": "light"
     },
     "output_type": "display_data"
    }
   ],
   "source": [
    "deathFrame=pd.DataFrame(zip(ageGroups, covidDeathsByAge, covidAdditionalMissingDeathsByAge, covidAdditionalUnknownDeathsByAge))\n",
    "\n",
    "colors = ['black', 'red', 'gray']\n",
    "lgn = ['Deaths', 'Additional Missing Deaths', 'Additional Unknown Deaths']\n",
    "\n",
    "ax = deathFrame.plot(kind='bar', stacked=True, color=colors, figsize=(18,6))\n",
    "ax.legend(lgn)"
   ]
  },
  {
   "cell_type": "code",
   "execution_count": 53,
   "metadata": {},
   "outputs": [
    {
     "name": "stdout",
     "output_type": "stream",
     "text": [
      "Additional: 145876\n",
      "Total with Additional: 275407\n"
     ]
    }
   ],
   "source": [
    "print ('Additional:', int(totalCovidAdditionalMissingByAge + totalCovidAdditionalUnknownByAge))\n",
    "print ('Total with Additional:', int(totalCovidAdditionalMissingByAge + totalCovidAdditionalUnknownByAge + totalCovidDeathsByAge))"
   ]
  },
  {
   "cell_type": "code",
   "execution_count": 60,
   "metadata": {},
   "outputs": [],
   "source": [
    "initialReportDate = cspud['cdc_report_dt']\n",
    "\n",
    "initialReportDatetime = [dt.datetime.strptime(x, '%Y/%m/%d') for x in initialReportDate]\n",
    "\n"
   ]
  },
  {
   "cell_type": "code",
   "execution_count": 85,
   "metadata": {},
   "outputs": [],
   "source": [
    "covidDeathIRD = []\n",
    "covidDeathIRDAG = []\n",
    "\n",
    "initialReportDatetime.sort()\n",
    "\n",
    "for d,ird,ag,agna,cs in zip(deathStatus, initialReportDatetime, ageGroup, ageGroupNA, covidStatus):\n",
    "    if (d == 'Yes' and cs == 'Laboratory-confirmed case' and agna == False):\n",
    "        covidDeathIRD.append(ird)\n",
    "        covidDeathIRDAG.append(ag)"
   ]
  },
  {
   "cell_type": "code",
   "execution_count": 106,
   "metadata": {},
   "outputs": [],
   "source": [
    "covidDeathDailyTotalIRD = []\n",
    "covidDeathDailyIRD = []\n",
    "\n",
    "tempIRD = None\n",
    "dailyIRD = 0\n",
    "\n",
    "for cdird in covidDeathIRD:\n",
    "    if(tempIRD == None):\n",
    "        tempIRD = cdird\n",
    "        dailyIRD = 1\n",
    "    elif(tempIRD == cdird):\n",
    "        dailyIRD += 1\n",
    "    elif(tempIRD != cdird):\n",
    "        covidDeathDailyIRD.append(cdird)\n",
    "        covidDeathDailyTotalIRD.append(dailyIRD)\n",
    "        dailyIRD = 1\n",
    "        tempIRD = cdird"
   ]
  },
  {
   "cell_type": "code",
   "execution_count": 105,
   "metadata": {},
   "outputs": [
    {
     "data": {
      "text/plain": [
       "126426"
      ]
     },
     "execution_count": 105,
     "metadata": {},
     "output_type": "execute_result"
    }
   ],
   "source": [
    "sum(covidDeathDailyTotalIRD)"
   ]
  },
  {
   "cell_type": "code",
   "execution_count": 107,
   "metadata": {
    "scrolled": false
   },
   "outputs": [
    {
     "data": {
      "image/png": "[encoded data removed]",
      "text/plain": [
       "<Figure size 1296x720 with 1 Axes>"
      ]
     },
     "metadata": {
      "needs_background": "light"
     },
     "output_type": "display_data"
    }
   ],
   "source": [
    "plt.figure(figsize=(18,10))\n",
    "\n",
    "plt.scatter(covidDeathDailyIRD, covidDeathDailyTotalIRD, marker='.')\n",
    "plt.ylim(-100,2500)\n",
    "plt.show()"
   ]
  },
  {
   "cell_type": "code",
   "execution_count": 69,
   "metadata": {},
   "outputs": [
    {
     "data": {
      "image/png": "[encoded data removed]",
      "text/plain": [
       "<Figure size 1296x720 with 1 Axes>"
      ]
     },
     "metadata": {
      "needs_background": "light"
     },
     "output_type": "display_data"
    }
   ],
   "source": [
    "plt.figure(figsize=(18,10))\n",
    "\n",
    "plt.scatter(covidDeathIRD, covidDeathIRDAG, marker='.')\n",
    "plt.show()"
   ]
  },
  {
   "cell_type": "code",
   "execution_count": null,
   "metadata": {},
   "outputs": [],
   "source": []
  },
  {
   "cell_type": "code",
   "execution_count": 33,
   "metadata": {
    "scrolled": true
   },
   "outputs": [
    {
     "data": {
      "text/html": [
       "<div>\n",
       "<style scoped>\n",
       "    .dataframe tbody tr th:only-of-type {\n",
       "        vertical-align: middle;\n",
       "    }\n",
       "\n",
       "    .dataframe tbody tr th {\n",
       "        vertical-align: top;\n",
       "    }\n",
       "\n",
       "    .dataframe thead th {\n",
       "        text-align: right;\n",
       "    }\n",
       "</style>\n",
       "<table border=\"1\" class=\"dataframe\">\n",
       "  <thead>\n",
       "    <tr style=\"text-align: right;\">\n",
       "      <th></th>\n",
       "      <th>submission_date</th>\n",
       "      <th>state</th>\n",
       "      <th>tot_cases</th>\n",
       "      <th>conf_cases</th>\n",
       "      <th>prob_cases</th>\n",
       "      <th>new_case</th>\n",
       "      <th>pnew_case</th>\n",
       "      <th>tot_death</th>\n",
       "      <th>conf_death</th>\n",
       "      <th>prob_death</th>\n",
       "      <th>new_death</th>\n",
       "      <th>pnew_death</th>\n",
       "      <th>created_at</th>\n",
       "      <th>consent_cases</th>\n",
       "      <th>consent_deaths</th>\n",
       "    </tr>\n",
       "  </thead>\n",
       "  <tbody>\n",
       "    <tr>\n",
       "      <th>0</th>\n",
       "      <td>01/22/2020</td>\n",
       "      <td>CO</td>\n",
       "      <td>0</td>\n",
       "      <td>NaN</td>\n",
       "      <td>NaN</td>\n",
       "      <td>0</td>\n",
       "      <td>NaN</td>\n",
       "      <td>0</td>\n",
       "      <td>NaN</td>\n",
       "      <td>NaN</td>\n",
       "      <td>0</td>\n",
       "      <td>NaN</td>\n",
       "      <td>03/26/2020 04:22:39 PM</td>\n",
       "      <td>Agree</td>\n",
       "      <td>Agree</td>\n",
       "    </tr>\n",
       "    <tr>\n",
       "      <th>1</th>\n",
       "      <td>01/23/2020</td>\n",
       "      <td>CO</td>\n",
       "      <td>0</td>\n",
       "      <td>NaN</td>\n",
       "      <td>NaN</td>\n",
       "      <td>0</td>\n",
       "      <td>NaN</td>\n",
       "      <td>0</td>\n",
       "      <td>NaN</td>\n",
       "      <td>NaN</td>\n",
       "      <td>0</td>\n",
       "      <td>NaN</td>\n",
       "      <td>03/26/2020 04:22:39 PM</td>\n",
       "      <td>Agree</td>\n",
       "      <td>Agree</td>\n",
       "    </tr>\n",
       "    <tr>\n",
       "      <th>2</th>\n",
       "      <td>01/24/2020</td>\n",
       "      <td>CO</td>\n",
       "      <td>0</td>\n",
       "      <td>NaN</td>\n",
       "      <td>NaN</td>\n",
       "      <td>0</td>\n",
       "      <td>NaN</td>\n",
       "      <td>0</td>\n",
       "      <td>NaN</td>\n",
       "      <td>NaN</td>\n",
       "      <td>0</td>\n",
       "      <td>NaN</td>\n",
       "      <td>03/26/2020 04:22:39 PM</td>\n",
       "      <td>Agree</td>\n",
       "      <td>Agree</td>\n",
       "    </tr>\n",
       "    <tr>\n",
       "      <th>3</th>\n",
       "      <td>01/25/2020</td>\n",
       "      <td>CO</td>\n",
       "      <td>0</td>\n",
       "      <td>NaN</td>\n",
       "      <td>NaN</td>\n",
       "      <td>0</td>\n",
       "      <td>NaN</td>\n",
       "      <td>0</td>\n",
       "      <td>NaN</td>\n",
       "      <td>NaN</td>\n",
       "      <td>0</td>\n",
       "      <td>NaN</td>\n",
       "      <td>03/26/2020 04:22:39 PM</td>\n",
       "      <td>Agree</td>\n",
       "      <td>Agree</td>\n",
       "    </tr>\n",
       "    <tr>\n",
       "      <th>4</th>\n",
       "      <td>01/26/2020</td>\n",
       "      <td>CO</td>\n",
       "      <td>0</td>\n",
       "      <td>NaN</td>\n",
       "      <td>NaN</td>\n",
       "      <td>0</td>\n",
       "      <td>NaN</td>\n",
       "      <td>0</td>\n",
       "      <td>NaN</td>\n",
       "      <td>NaN</td>\n",
       "      <td>0</td>\n",
       "      <td>NaN</td>\n",
       "      <td>03/26/2020 04:22:39 PM</td>\n",
       "      <td>Agree</td>\n",
       "      <td>Agree</td>\n",
       "    </tr>\n",
       "  </tbody>\n",
       "</table>\n",
       "</div>"
      ],
      "text/plain": [
       "  submission_date state  tot_cases  conf_cases  prob_cases  new_case  \\\n",
       "0      01/22/2020    CO          0         NaN         NaN         0   \n",
       "1      01/23/2020    CO          0         NaN         NaN         0   \n",
       "2      01/24/2020    CO          0         NaN         NaN         0   \n",
       "3      01/25/2020    CO          0         NaN         NaN         0   \n",
       "4      01/26/2020    CO          0         NaN         NaN         0   \n",
       "\n",
       "   pnew_case  tot_death  conf_death  prob_death  new_death  pnew_death  \\\n",
       "0        NaN          0         NaN         NaN          0         NaN   \n",
       "1        NaN          0         NaN         NaN          0         NaN   \n",
       "2        NaN          0         NaN         NaN          0         NaN   \n",
       "3        NaN          0         NaN         NaN          0         NaN   \n",
       "4        NaN          0         NaN         NaN          0         NaN   \n",
       "\n",
       "               created_at consent_cases consent_deaths  \n",
       "0  03/26/2020 04:22:39 PM         Agree          Agree  \n",
       "1  03/26/2020 04:22:39 PM         Agree          Agree  \n",
       "2  03/26/2020 04:22:39 PM         Agree          Agree  \n",
       "3  03/26/2020 04:22:39 PM         Agree          Agree  \n",
       "4  03/26/2020 04:22:39 PM         Agree          Agree  "
      ]
     },
     "execution_count": 33,
     "metadata": {},
     "output_type": "execute_result"
    }
   ],
   "source": [
    "cdbsot = pd.read_csv(\"~/Downloads/United_States_COVID-19_Cases_and_Deaths_by_State_over_Time.csv\")\n",
    "\n",
    "cdbsot.head()"
   ]
  },
  {
   "cell_type": "code",
   "execution_count": 34,
   "metadata": {},
   "outputs": [
    {
     "data": {
      "text/plain": [
       "229109"
      ]
     },
     "execution_count": 34,
     "metadata": {},
     "output_type": "execute_result"
    }
   ],
   "source": [
    "reportedNewDeaths = cdbsot['new_death']\n",
    "\n",
    "reportedTotalDeaths = sum(reportedNewDeaths)\n",
    "\n",
    "reportedTotalDeaths"
   ]
  },
  {
   "cell_type": "code",
   "execution_count": 35,
   "metadata": {},
   "outputs": [
    {
     "name": "stdout",
     "output_type": "stream",
     "text": [
      "92701 92709\n"
     ]
    }
   ],
   "source": [
    "deathTotalDifference = reportedTotalDeaths - deaths\n",
    "\n",
    "deathByAgeTotalDifference = reportedTotalDeaths - totalDeathsByAge\n",
    "\n",
    "print(deathTotalDifference, deathByAgeTotalDifference)"
   ]
  },
  {
   "cell_type": "code",
   "execution_count": 36,
   "metadata": {
    "scrolled": true
   },
   "outputs": [
    {
     "data": {
      "text/html": [
       "<div>\n",
       "<style scoped>\n",
       "    .dataframe tbody tr th:only-of-type {\n",
       "        vertical-align: middle;\n",
       "    }\n",
       "\n",
       "    .dataframe tbody tr th {\n",
       "        vertical-align: top;\n",
       "    }\n",
       "\n",
       "    .dataframe thead th {\n",
       "        text-align: right;\n",
       "    }\n",
       "</style>\n",
       "<table border=\"1\" class=\"dataframe\">\n",
       "  <thead>\n",
       "    <tr style=\"text-align: right;\">\n",
       "      <th></th>\n",
       "      <th>State/Territory</th>\n",
       "      <th>Total Cases</th>\n",
       "      <th>Confirmed Cases</th>\n",
       "      <th>Probable Cases</th>\n",
       "      <th>Cases in Last 7 Days</th>\n",
       "      <th>Case Rate per 100000</th>\n",
       "      <th>Total Deaths</th>\n",
       "      <th>Confirmed Deaths</th>\n",
       "      <th>Probable Deaths</th>\n",
       "      <th>Deaths in Last 7 Days</th>\n",
       "      <th>Death Rate per 100000</th>\n",
       "      <th>Case Rate per 100000 in Last 7 Days</th>\n",
       "      <th>Death Rate per 100K in Last 7 Days</th>\n",
       "    </tr>\n",
       "  </thead>\n",
       "  <tbody>\n",
       "    <tr>\n",
       "      <th>0</th>\n",
       "      <td>Alaska</td>\n",
       "      <td>14837</td>\n",
       "      <td>NaN</td>\n",
       "      <td>NaN</td>\n",
       "      <td>2719</td>\n",
       "      <td>2012</td>\n",
       "      <td>81</td>\n",
       "      <td>NaN</td>\n",
       "      <td>NaN</td>\n",
       "      <td>13</td>\n",
       "      <td>10</td>\n",
       "      <td>52.7</td>\n",
       "      <td>0.3</td>\n",
       "    </tr>\n",
       "    <tr>\n",
       "      <th>1</th>\n",
       "      <td>Alabama</td>\n",
       "      <td>190496</td>\n",
       "      <td>162720.0</td>\n",
       "      <td>27776.0</td>\n",
       "      <td>9580</td>\n",
       "      <td>3897</td>\n",
       "      <td>2932</td>\n",
       "      <td>2735.0</td>\n",
       "      <td>197.0</td>\n",
       "      <td>73</td>\n",
       "      <td>59</td>\n",
       "      <td>28.0</td>\n",
       "      <td>0.2</td>\n",
       "    </tr>\n",
       "    <tr>\n",
       "      <th>2</th>\n",
       "      <td>Arkansas</td>\n",
       "      <td>110874</td>\n",
       "      <td>NaN</td>\n",
       "      <td>NaN</td>\n",
       "      <td>6739</td>\n",
       "      <td>3679</td>\n",
       "      <td>1900</td>\n",
       "      <td>NaN</td>\n",
       "      <td>NaN</td>\n",
       "      <td>118</td>\n",
       "      <td>63</td>\n",
       "      <td>31.9</td>\n",
       "      <td>0.6</td>\n",
       "    </tr>\n",
       "    <tr>\n",
       "      <th>3</th>\n",
       "      <td>American Samoa</td>\n",
       "      <td>0</td>\n",
       "      <td>NaN</td>\n",
       "      <td>NaN</td>\n",
       "      <td>0</td>\n",
       "      <td>0</td>\n",
       "      <td>0</td>\n",
       "      <td>NaN</td>\n",
       "      <td>NaN</td>\n",
       "      <td>0</td>\n",
       "      <td>0</td>\n",
       "      <td>0.0</td>\n",
       "      <td>0.0</td>\n",
       "    </tr>\n",
       "    <tr>\n",
       "      <th>4</th>\n",
       "      <td>Arizona</td>\n",
       "      <td>244045</td>\n",
       "      <td>238356.0</td>\n",
       "      <td>5689.0</td>\n",
       "      <td>8163</td>\n",
       "      <td>3403</td>\n",
       "      <td>5934</td>\n",
       "      <td>5641.0</td>\n",
       "      <td>293.0</td>\n",
       "      <td>69</td>\n",
       "      <td>82</td>\n",
       "      <td>16.3</td>\n",
       "      <td>0.1</td>\n",
       "    </tr>\n",
       "  </tbody>\n",
       "</table>\n",
       "</div>"
      ],
      "text/plain": [
       "  State/Territory  Total Cases  Confirmed Cases  Probable Cases  \\\n",
       "0          Alaska        14837              NaN             NaN   \n",
       "1         Alabama       190496         162720.0         27776.0   \n",
       "2        Arkansas       110874              NaN             NaN   \n",
       "3  American Samoa            0              NaN             NaN   \n",
       "4         Arizona       244045         238356.0          5689.0   \n",
       "\n",
       "   Cases in Last 7 Days  Case Rate per 100000  Total Deaths  Confirmed Deaths  \\\n",
       "0                  2719                  2012            81               NaN   \n",
       "1                  9580                  3897          2932            2735.0   \n",
       "2                  6739                  3679          1900               NaN   \n",
       "3                     0                     0             0               NaN   \n",
       "4                  8163                  3403          5934            5641.0   \n",
       "\n",
       "   Probable Deaths  Deaths in Last 7 Days  Death Rate per 100000  \\\n",
       "0              NaN                     13                     10   \n",
       "1            197.0                     73                     59   \n",
       "2              NaN                    118                     63   \n",
       "3              NaN                      0                      0   \n",
       "4            293.0                     69                     82   \n",
       "\n",
       "   Case Rate per 100000 in Last 7 Days  Death Rate per 100K in Last 7 Days  \n",
       "0                                 52.7                                 0.3  \n",
       "1                                 28.0                                 0.2  \n",
       "2                                 31.9                                 0.6  \n",
       "3                                  0.0                                 0.0  \n",
       "4                                 16.3                                 0.1  "
      ]
     },
     "execution_count": 36,
     "metadata": {},
     "output_type": "execute_result"
    }
   ],
   "source": [
    "cdbs = pd.read_csv(\"~/Downloads/united_states_covid19_cases_and_deaths_by_state.csv\")\n",
    "\n",
    "cdbs.head()"
   ]
  },
  {
   "cell_type": "code",
   "execution_count": 37,
   "metadata": {},
   "outputs": [
    {
     "data": {
      "text/plain": [
       "229109"
      ]
     },
     "execution_count": 37,
     "metadata": {},
     "output_type": "execute_result"
    }
   ],
   "source": [
    "reportedStateDeaths = cdbs['Total Deaths']\n",
    "\n",
    "reportedStateTotalDeaths = sum(reportedStateDeaths)\n",
    "\n",
    "reportedStateTotalDeaths"
   ]
  },
  {
   "cell_type": "code",
   "execution_count": 38,
   "metadata": {},
   "outputs": [],
   "source": [
    "populationData = pd.read_csv('nst-est2019-alldata.csv')"
   ]
  },
  {
   "cell_type": "code",
   "execution_count": 39,
   "metadata": {},
   "outputs": [
    {
     "data": {
      "text/html": [
       "<div>\n",
       "<style scoped>\n",
       "    .dataframe tbody tr th:only-of-type {\n",
       "        vertical-align: middle;\n",
       "    }\n",
       "\n",
       "    .dataframe tbody tr th {\n",
       "        vertical-align: top;\n",
       "    }\n",
       "\n",
       "    .dataframe thead th {\n",
       "        text-align: right;\n",
       "    }\n",
       "</style>\n",
       "<table border=\"1\" class=\"dataframe\">\n",
       "  <thead>\n",
       "    <tr style=\"text-align: right;\">\n",
       "      <th></th>\n",
       "      <th>SUMLEV</th>\n",
       "      <th>REGION</th>\n",
       "      <th>DIVISION</th>\n",
       "      <th>STATE</th>\n",
       "      <th>NAME</th>\n",
       "      <th>CENSUS2010POP</th>\n",
       "      <th>ESTIMATESBASE2010</th>\n",
       "      <th>POPESTIMATE2010</th>\n",
       "      <th>POPESTIMATE2011</th>\n",
       "      <th>POPESTIMATE2012</th>\n",
       "      <th>...</th>\n",
       "      <th>RDOMESTICMIG2019</th>\n",
       "      <th>RNETMIG2011</th>\n",
       "      <th>RNETMIG2012</th>\n",
       "      <th>RNETMIG2013</th>\n",
       "      <th>RNETMIG2014</th>\n",
       "      <th>RNETMIG2015</th>\n",
       "      <th>RNETMIG2016</th>\n",
       "      <th>RNETMIG2017</th>\n",
       "      <th>RNETMIG2018</th>\n",
       "      <th>RNETMIG2019</th>\n",
       "    </tr>\n",
       "  </thead>\n",
       "  <tbody>\n",
       "    <tr>\n",
       "      <th>0</th>\n",
       "      <td>10</td>\n",
       "      <td>0</td>\n",
       "      <td>0</td>\n",
       "      <td>0</td>\n",
       "      <td>United States</td>\n",
       "      <td>308745538</td>\n",
       "      <td>308758105</td>\n",
       "      <td>309321666</td>\n",
       "      <td>311556874</td>\n",
       "      <td>313830990</td>\n",
       "      <td>...</td>\n",
       "      <td>0.000000</td>\n",
       "      <td>2.493773</td>\n",
       "      <td>2.682083</td>\n",
       "      <td>2.636187</td>\n",
       "      <td>2.921500</td>\n",
       "      <td>3.260435</td>\n",
       "      <td>3.252788</td>\n",
       "      <td>2.871957</td>\n",
       "      <td>2.153911</td>\n",
       "      <td>1.818059</td>\n",
       "    </tr>\n",
       "    <tr>\n",
       "      <th>1</th>\n",
       "      <td>20</td>\n",
       "      <td>1</td>\n",
       "      <td>0</td>\n",
       "      <td>0</td>\n",
       "      <td>Northeast Region</td>\n",
       "      <td>55317240</td>\n",
       "      <td>55318443</td>\n",
       "      <td>55380134</td>\n",
       "      <td>55604223</td>\n",
       "      <td>55775216</td>\n",
       "      <td>...</td>\n",
       "      <td>-5.254530</td>\n",
       "      <td>0.887909</td>\n",
       "      <td>-0.038355</td>\n",
       "      <td>-0.469783</td>\n",
       "      <td>-0.986097</td>\n",
       "      <td>-2.061965</td>\n",
       "      <td>-2.490484</td>\n",
       "      <td>-1.837048</td>\n",
       "      <td>-2.134447</td>\n",
       "      <td>-2.859713</td>\n",
       "    </tr>\n",
       "    <tr>\n",
       "      <th>2</th>\n",
       "      <td>20</td>\n",
       "      <td>2</td>\n",
       "      <td>0</td>\n",
       "      <td>0</td>\n",
       "      <td>Midwest Region</td>\n",
       "      <td>66927001</td>\n",
       "      <td>66929725</td>\n",
       "      <td>66974416</td>\n",
       "      <td>67157800</td>\n",
       "      <td>67336743</td>\n",
       "      <td>...</td>\n",
       "      <td>-2.365881</td>\n",
       "      <td>-0.963930</td>\n",
       "      <td>-0.973943</td>\n",
       "      <td>-0.006924</td>\n",
       "      <td>-0.762969</td>\n",
       "      <td>-1.388437</td>\n",
       "      <td>-1.241784</td>\n",
       "      <td>-0.557370</td>\n",
       "      <td>-0.922755</td>\n",
       "      <td>-1.111173</td>\n",
       "    </tr>\n",
       "    <tr>\n",
       "      <th>3</th>\n",
       "      <td>20</td>\n",
       "      <td>3</td>\n",
       "      <td>0</td>\n",
       "      <td>0</td>\n",
       "      <td>South Region</td>\n",
       "      <td>114555744</td>\n",
       "      <td>114563030</td>\n",
       "      <td>114866680</td>\n",
       "      <td>116006522</td>\n",
       "      <td>117241208</td>\n",
       "      <td>...</td>\n",
       "      <td>3.261349</td>\n",
       "      <td>5.130513</td>\n",
       "      <td>5.850458</td>\n",
       "      <td>5.292073</td>\n",
       "      <td>6.161501</td>\n",
       "      <td>7.277358</td>\n",
       "      <td>7.150074</td>\n",
       "      <td>6.198168</td>\n",
       "      <td>5.225519</td>\n",
       "      <td>5.203720</td>\n",
       "    </tr>\n",
       "    <tr>\n",
       "      <th>4</th>\n",
       "      <td>20</td>\n",
       "      <td>4</td>\n",
       "      <td>0</td>\n",
       "      <td>0</td>\n",
       "      <td>West Region</td>\n",
       "      <td>71945553</td>\n",
       "      <td>71946907</td>\n",
       "      <td>72100436</td>\n",
       "      <td>72788329</td>\n",
       "      <td>73477823</td>\n",
       "      <td>...</td>\n",
       "      <td>0.614245</td>\n",
       "      <td>2.723344</td>\n",
       "      <td>3.062896</td>\n",
       "      <td>3.162262</td>\n",
       "      <td>4.026429</td>\n",
       "      <td>4.987285</td>\n",
       "      <td>5.261078</td>\n",
       "      <td>4.021194</td>\n",
       "      <td>3.044951</td>\n",
       "      <td>2.312083</td>\n",
       "    </tr>\n",
       "  </tbody>\n",
       "</table>\n",
       "<p>5 rows × 151 columns</p>\n",
       "</div>"
      ],
      "text/plain": [
       "   SUMLEV REGION DIVISION  STATE              NAME  CENSUS2010POP  \\\n",
       "0      10      0        0      0     United States      308745538   \n",
       "1      20      1        0      0  Northeast Region       55317240   \n",
       "2      20      2        0      0    Midwest Region       66927001   \n",
       "3      20      3        0      0      South Region      114555744   \n",
       "4      20      4        0      0       West Region       71945553   \n",
       "\n",
       "   ESTIMATESBASE2010  POPESTIMATE2010  POPESTIMATE2011  POPESTIMATE2012  ...  \\\n",
       "0          308758105        309321666        311556874        313830990  ...   \n",
       "1           55318443         55380134         55604223         55775216  ...   \n",
       "2           66929725         66974416         67157800         67336743  ...   \n",
       "3          114563030        114866680        116006522        117241208  ...   \n",
       "4           71946907         72100436         72788329         73477823  ...   \n",
       "\n",
       "   RDOMESTICMIG2019  RNETMIG2011  RNETMIG2012  RNETMIG2013  RNETMIG2014  \\\n",
       "0          0.000000     2.493773     2.682083     2.636187     2.921500   \n",
       "1         -5.254530     0.887909    -0.038355    -0.469783    -0.986097   \n",
       "2         -2.365881    -0.963930    -0.973943    -0.006924    -0.762969   \n",
       "3          3.261349     5.130513     5.850458     5.292073     6.161501   \n",
       "4          0.614245     2.723344     3.062896     3.162262     4.026429   \n",
       "\n",
       "   RNETMIG2015  RNETMIG2016  RNETMIG2017  RNETMIG2018  RNETMIG2019  \n",
       "0     3.260435     3.252788     2.871957     2.153911     1.818059  \n",
       "1    -2.061965    -2.490484    -1.837048    -2.134447    -2.859713  \n",
       "2    -1.388437    -1.241784    -0.557370    -0.922755    -1.111173  \n",
       "3     7.277358     7.150074     6.198168     5.225519     5.203720  \n",
       "4     4.987285     5.261078     4.021194     3.044951     2.312083  \n",
       "\n",
       "[5 rows x 151 columns]"
      ]
     },
     "execution_count": 39,
     "metadata": {},
     "output_type": "execute_result"
    }
   ],
   "source": [
    "populationData.head()"
   ]
  },
  {
   "cell_type": "markdown",
   "metadata": {},
   "source": [
    "7/1/2019 resident total population estimate"
   ]
  },
  {
   "cell_type": "code",
   "execution_count": 40,
   "metadata": {},
   "outputs": [
    {
     "data": {
      "text/plain": [
       "'United States'"
      ]
     },
     "execution_count": 40,
     "metadata": {},
     "output_type": "execute_result"
    }
   ],
   "source": [
    "populationData['NAME'][0]"
   ]
  },
  {
   "cell_type": "code",
   "execution_count": 41,
   "metadata": {},
   "outputs": [],
   "source": [
    "population2019 = populationData['POPESTIMATE2019']"
   ]
  },
  {
   "cell_type": "code",
   "execution_count": 42,
   "metadata": {},
   "outputs": [
    {
     "data": {
      "text/plain": [
       "328239523"
      ]
     },
     "execution_count": 42,
     "metadata": {},
     "output_type": "execute_result"
    }
   ],
   "source": [
    "population2019[0]"
   ]
  },
  {
   "cell_type": "code",
   "execution_count": null,
   "metadata": {},
   "outputs": [],
   "source": []
  },
  {
   "cell_type": "markdown",
   "metadata": {},
   "source": [
    "<b>Citation</b>\n",
    "\n",
    "-<i>Centers for Disease Control and Prevention, COVID-19 Response. COVID-19 Case Surveillance Public Data Access, Summary, and Limitations (version date: September 30, 2020)."
   ]
  },
  {
   "cell_type": "code",
   "execution_count": null,
   "metadata": {},
   "outputs": [],
   "source": []
  }
 ],
 "metadata": {
  "kernelspec": {
   "display_name": "Python 3",
   "language": "python",
   "name": "python3"
  },
  "language_info": {
   "codemirror_mode": {
    "name": "ipython",
    "version": 3
   },
   "file_extension": ".py",
   "mimetype": "text/x-python",
   "name": "python",
   "nbconvert_exporter": "python",
   "pygments_lexer": "ipython3",
   "version": "3.8.3"
  }
 },
 "nbformat": 4,
 "nbformat_minor": 4
}
